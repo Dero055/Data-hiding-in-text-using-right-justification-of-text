{
 "cells": [
  {
   "cell_type": "markdown",
   "metadata": {},
   "source": [
    "# BT01: Ẩn tin mật trên văn bản bằng phương pháp chèn khoảng trắng <font color=\"grey\">(chèn khoảng trắng giữa các từ để làm cho văn bản được căn lề 2 bên)\n",
    "\n",
    "\n",
    "Họ tên: Nguyễn Đỗ Chí Thảo\n",
    "\n",
    "MSSV: 1712159"
   ]
  },
  {
   "cell_type": "markdown",
   "metadata": {},
   "source": [
    "---\n",
    "## Cách làm bài và nộp bài\n",
    "&#9889; Bạn lưu ý là mình sẽ dùng chương trình hỗ trợ chấm bài nên bạn cần phải tuân thủ chính xác qui định mà mình đặt ra, nếu không rõ thì hỏi, chứ không nên tự tiện làm theo ý của cá nhân.\n",
    "\n",
    "**Cách làm bài**\n",
    "\n",
    "Bạn sẽ làm trực tiếp trên file notebook này. Đầu tiên, bạn điền họ tên và MSSV vào phần đầu file ở bên trên. Trong file, bạn làm bài ở những chỗ có ghi là:\n",
    "```python\n",
    "# YOUR CODE HERE\n",
    "raise NotImplementedError()\n",
    "```\n",
    "hoặc đối với những phần code không bắt buộc thì là:\n",
    "```python\n",
    "# YOUR CODE HERE (OPTION)\n",
    "```\n",
    "hoặc đối với markdown cell thì là:\n",
    "```markdown\n",
    "YOUR ANSWER HERE\n",
    "```\n",
    "Tất nhiên, khi làm thì bạn xóa dòng `raise NotImplementedError()` đi.\n",
    "Đối những phần yêu cầu code thì thường ở ngay phía dưới sẽ có một (hoặc một số) cell chứa các bộ test để giúp bạn biết đã code đúng hay chưa; nếu chạy cell này không có lỗi gì thì có nghĩa là qua được các bộ test. Trong một số trường hợp, các bộ test có thể sẽ không đầy đủ; nghĩa là, nếu không qua được test thì là code sai, nhưng nếu qua được test thì chưa chắc đã đúng hoàn toàn.\n",
    "\n",
    "Trong khi làm bài, bạn có thể cho in ra màn hình, tạo thêm các cell để test. Nhưng khi nộp bài thì bạn xóa các cell mà bạn tự tạo, xóa hoặc comment các câu lệnh in ra màn hình. Bạn lưu ý <font color=red>không được tự tiện xóa các cell hay sửa code của Thầy</font> (trừ những chỗ được phép sửa như đã nói ở trên).\n",
    "\n",
    "Trong khi làm bài, thường xuyên `Ctrl + S` để lưu lại bài làm của bạn, tránh mất mát thông tin.\n",
    "\n",
    "\n",
    "*Nên nhớ mục tiêu chính ở đây là <font color=green>học, học một cách chân thật</font>. Bạn có thể thảo luận ý tưởng với bạn khác, nhưng <font color=green>code và bài làm phải là của bạn, dựa trên sự hiểu thật sự của bạn</font>. <font color=red>Nếu vi phạm thì sẽ bị 0 điểm cho toàn bộ môn học.</font>*\n",
    "\n",
    "**Cách nộp bài**\n",
    "\n",
    "Khi chấm bài, đầu tiên mình sẽ chọn `Kernel` - `Restart Kernel & Run All Cells`, để restart và chạy tất cả các cell trong notebook của bạn; do đó, trước khi nộp bài, bạn nên chạy thử `Kernel` - `Restart Kernel & Run All Cells` để đảm bảo mọi chuyện diễn ra đúng như mong đợi.\n",
    "\n",
    "Sau đó, bạn tạo thư mục nộp bài theo cấu trúc sau:\n",
    "- Thư mục `MSSV` (vd, nếu bạn có MSSV là 1234567 thì bạn đặt tên thư mục là `1234567`)\n",
    "    - Thư mục `BT01`\n",
    "        - File `BT01-AnTinMatTrenVanBan_KhoangTrang.ipynb` (không cần nộp các file khác)\n",
    "\n",
    "Cuối cùng, bạn nén thư mục `MSSV` này lại và nộp ở link trên moodle. <font color=red>Bạn lưu ý tuân thủ chính xác cấu trúc này.</font>"
   ]
  },
  {
   "cell_type": "markdown",
   "metadata": {},
   "source": [
    "## 2. Import"
   ]
  },
  {
   "cell_type": "code",
   "execution_count": 1,
   "metadata": {},
   "outputs": [],
   "source": [
    "from bitarray import bitarray"
   ]
  },
  {
   "cell_type": "markdown",
   "metadata": {},
   "source": [
    "## 3. Hàm nhúng (6đ)"
   ]
  },
  {
   "cell_type": "code",
   "execution_count": 2,
   "metadata": {
    "deletable": false,
    "nbgrader": {
     "cell_type": "code",
     "checksum": "620c8c02cddbfa7e68400a1cd6099a5d",
     "grade": false,
     "grade_id": "cell-2f21b430087c5c35",
     "locked": false,
     "schema_version": 3,
     "solution": true,
     "task": false
    }
   },
   "outputs": [],
   "source": [
    "def embed(msg_file, cover_text_file, text_width, stego_text_file):\n",
    "    '''\n",
    "    Nhúng tin mật vào văn bản bằng phương pháp chèn khoảng trắng \n",
    "    để văn bản được căn lề 2 bên.\n",
    "    \n",
    "    Các tham số:\n",
    "        msg_file (str): Tên file chứa secret message.\n",
    "        cover_text_file (str): Tên file chứa cover text.\n",
    "        text_width (int): Chiều dài của dòng sau khi được căn lề.\n",
    "        stego_text_file (str): Tên file chứa stego text.\n",
    "    Giá trị trả về:\n",
    "        bool: True nếu nhúng thành không, False nếu không đủ chỗ để nhúng. \n",
    "    '''\n",
    "    # YOUR CODE HERE\n",
    "    \n",
    "    # Read cover text file\n",
    "    with open(cover_text_file, 'r') as f:\n",
    "        cover_text_lines = f.read().splitlines()\n",
    "    \n",
    "    # Read msg file\n",
    "    with open(msg_file, 'r') as f:\n",
    "        msg = f.read()\n",
    "        \n",
    "    # Convert msg to msg bits\n",
    "    msg_bits = bitarray()\n",
    "    msg_bits.frombytes(msg.encode('utf-8'))    \n",
    "    # Embed msg bits into cover text lines\n",
    "    stego_text = ''; b = 0\n",
    "    flag=False\n",
    "    interation=0\n",
    "    for i in range(len(cover_text_lines)-1):\n",
    "        line=cover_text_lines[i]\n",
    "        next_line=cover_text_lines[i+1]\n",
    "        #--------------------\n",
    "        word=line.split(' ')\n",
    "        #so khoang trang giua cac tu\n",
    "        n=len(word)-1\n",
    "        #TH dòng trống || cuối đoạn||dòng có 1 từ\n",
    "        if line==''or next_line=='' or n<=0:\n",
    "            stego_text += line+'\\n'\n",
    "            continue\n",
    "         #--------------------\n",
    "        else:\n",
    "            #so khoang trang can chen\n",
    "            m = text_width - len(line) \n",
    "            # TH co the chen duoc bit trong msg_bits\n",
    "            if 0<m and m< n:\n",
    "                #So bit chen duoc\n",
    "                n_bits=min(m,n-m)\n",
    "                # Duyet n_bits\n",
    "                for i in range(2*n_bits)[::2]:\n",
    "                    #Chua duyet het bit trong msg_bits\n",
    "                    if b < len(msg_bits):\n",
    "                        if msg_bits[b]==1:\n",
    "                            stego_text+=word[i]+' '+word[i+1]+'  '\n",
    "                        else:\n",
    "                            stego_text+=word[i]+'  '+word[i+1]+' '\n",
    "                        b+=1\n",
    "                    # Da duyet het msg_bits\n",
    "                    else:\n",
    "                        if not(flag):\n",
    "                            flag=True\n",
    "                            stego_text+=word[i]+' '+word[i+1]+'  '\n",
    "                        else:\n",
    "                            stego_text+=word[i]+'  '+word[i+1]+' '\n",
    "                # Can le nhung khoang trang con lai khi k the chen them bit\n",
    "                for i in range(2*n_bits,len(word)-1):\n",
    "                    stego_text+=word[i]+' '\n",
    "                    if n_bits<m:\n",
    "                        stego_text+=' '\n",
    "                        n_bits+=1\n",
    "                stego_text+=word[-1]\n",
    "            #TH khong the chen bit nhung van phai can le\n",
    "            else:\n",
    "                #----------------------------\n",
    "                n_spaces=int(m/n)+1\n",
    "                odd_spaces=int(m%n)\n",
    "                for i in range(len(word)-1):\n",
    "                    stego_text+=word[i]+' '*n_spaces\n",
    "                    if odd_spaces>0:\n",
    "                        stego_text+=' '\n",
    "                        odd_spaces-=1\n",
    "                stego_text+=word[-1]\n",
    "                #-----------------------------\n",
    "        stego_text +='\\n'\n",
    "        interation+=1\n",
    "    if not(flag):\n",
    "        return False\n",
    "    # Write stego text to file\n",
    "    stego_text+=cover_text_lines[len(cover_text_lines)-1]\n",
    "    with open(stego_text_file, 'w') as f:\n",
    "        f.write(stego_text)\n",
    "    return True"
   ]
  },
  {
   "cell_type": "code",
   "execution_count": 3,
   "metadata": {
    "deletable": false,
    "editable": false,
    "nbgrader": {
     "cell_type": "code",
     "checksum": "85f0c8333ec0a8e0ed17110b6f0e215d",
     "grade": true,
     "grade_id": "cell-057a58bf038e1e60",
     "locked": true,
     "points": 5,
     "schema_version": 3,
     "solution": false,
     "task": false
    }
   },
   "outputs": [],
   "source": [
    "# TEST 1            \n",
    "result = embed('msg.txt', 'cover.txt', 70, 'stego.txt')\n",
    "assert result == True\n",
    "with open('stego.txt', 'r') as f:\n",
    "    stego_text = f.read()\n",
    "with open('correct_stego.txt', 'r') as f:\n",
    "    correct_stego_text = f.read()\n",
    "assert stego_text == correct_stego_text"
   ]
  },
  {
   "cell_type": "code",
   "execution_count": 4,
   "metadata": {
    "deletable": false,
    "editable": false,
    "nbgrader": {
     "cell_type": "code",
     "checksum": "056ce8f73d36fbfd94beec3c97ec6fff",
     "grade": true,
     "grade_id": "cell-f625774497df6542",
     "locked": true,
     "points": 1,
     "schema_version": 3,
     "solution": false,
     "task": false
    }
   },
   "outputs": [],
   "source": [
    "# TEST 2\n",
    "result = embed('msg2.txt', 'cover.txt', 70, 'stego.txt')\n",
    "assert result == False"
   ]
  },
  {
   "cell_type": "markdown",
   "metadata": {},
   "source": [
    "## 4. Hàm rút trích (4đ)"
   ]
  },
  {
   "cell_type": "code",
   "execution_count": 5,
   "metadata": {
    "deletable": false,
    "nbgrader": {
     "cell_type": "code",
     "checksum": "ab47043df0f050695b889c3d5ad57de2",
     "grade": false,
     "grade_id": "cell-f3f9b34770f282aa",
     "locked": false,
     "schema_version": 3,
     "solution": true,
     "task": false
    }
   },
   "outputs": [],
   "source": [
    "def extract(stego_text_file,extr_msg_file):\n",
    "    '''\n",
    "    Hàm rút trích tin mật đã được nhúng bằng phương pháp chèn khoảng trắng.\n",
    "    \n",
    "    Các tham số:\n",
    "        stego_text_file (str): Tên file chứa stego text.\n",
    "        extr_msg_file (str): Tên file chứa secret message được rút trích.\n",
    "    '''\n",
    "    # YOUR CODE HERE\n",
    "    with open(stego_text_file, 'r') as f:\n",
    "        cover_text_lines = f.read().splitlines()\n",
    "        \n",
    "    mesg=bitarray()\n",
    "    for test in cover_text_lines:\n",
    "        #Lay vi tri cac khoang trang trong 1 dong\n",
    "        l=[]\n",
    "        for i, c in enumerate(test):\n",
    "            if c==' ':\n",
    "                l.append(i)\n",
    "                \n",
    "        #Convert tu vi tri sang list cac space tuong ung\n",
    "        string=[]\n",
    "        stg=' '\n",
    "        for i in range(len(l)-1):\n",
    "            if l[i+1]==l[i]+1:\n",
    "                stg+=' '\n",
    "            else:\n",
    "                string.append(stg)\n",
    "                stg=' '\n",
    "        string.append(stg)\n",
    "        \n",
    "        #Convert from space array to bit array\n",
    "        if len(string)>=2 and (\\\n",
    "                               (len(string[0])==2 and len(string[1])==1) or (len(string[0])==1 and len(string[1])==2)):\n",
    "            for i in range(len(string)-1)[::2]:\n",
    "                if len(string[i])==2 and len(string[i+1])==1:\n",
    "                    mesg.append(False)\n",
    "                elif len(string[i])==1 and len(string[i+1])==2:\n",
    "                    mesg.append(True)\n",
    "                else:\n",
    "                    break\n",
    "    for i in range(len(mesg)-1, -1, -1):\n",
    "        bit=mesg.pop()\n",
    "        if bit==True:\n",
    "            break\n",
    "    mesg=mesg.tobytes()\n",
    "    extr_mesg=mesg.decode(\"utf-8\") \n",
    "    with open(extr_msg_file, 'w') as f:\n",
    "        f.write(extr_mesg)"
   ]
  },
  {
   "cell_type": "code",
   "execution_count": 6,
   "metadata": {
    "deletable": false,
    "editable": false,
    "nbgrader": {
     "cell_type": "code",
     "checksum": "cfe71ad39ca82548561ca5dcb025874d",
     "grade": true,
     "grade_id": "cell-caf1afe26d95b670",
     "locked": true,
     "points": 4,
     "schema_version": 3,
     "solution": false,
     "task": false
    }
   },
   "outputs": [],
   "source": [
    "# TEST\n",
    "extract('correct_stego.txt', 'extr_msg.txt')\n",
    "with open('extr_msg.txt', 'r') as f:\n",
    "    extr_msg = f.read()\n",
    "with open('correct_extr_msg.txt', 'r') as f:\n",
    "    correct_extr_msg = f.read()\n",
    "assert extr_msg == correct_extr_msg"
   ]
  }
 ],
 "metadata": {
  "anaconda-cloud": {},
  "kernelspec": {
   "display_name": "Python 3",
   "language": "python",
   "name": "python3"
  },
  "language_info": {
   "codemirror_mode": {
    "name": "ipython",
    "version": 3
   },
   "file_extension": ".py",
   "mimetype": "text/x-python",
   "name": "python",
   "nbconvert_exporter": "python",
   "pygments_lexer": "ipython3",
   "version": "3.7.7"
  },
  "toc": {
   "nav_menu": {},
   "number_sections": false,
   "sideBar": true,
   "skip_h1_title": true,
   "title_cell": "Table of Contents",
   "title_sidebar": "Contents",
   "toc_cell": false,
   "toc_position": {
    "height": "calc(100% - 180px)",
    "left": "10px",
    "top": "150px",
    "width": "165px"
   },
   "toc_section_display": true,
   "toc_window_display": true
  }
 },
 "nbformat": 4,
 "nbformat_minor": 4
}
